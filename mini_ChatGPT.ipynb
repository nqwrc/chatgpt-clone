{
 "cells": [
  {
   "attachments": {},
   "cell_type": "markdown",
   "id": "b10cce3a-a249-4cea-9d34-57ea33b24082",
   "metadata": {},
   "source": [
    "## Build Your own Mini ChatGPT using revChatGPT and Gradio"
   ]
  },
  {
   "cell_type": "markdown",
   "id": "7af838ec-08de-49a4-bf06-e1f4f808d92c",
   "metadata": {},
   "source": [
    "### 1. Install required modules"
   ]
  },
  {
   "cell_type": "code",
   "execution_count": null,
   "id": "3dde2f8b-d86f-4146-9c62-ee921939d495",
   "metadata": {},
   "outputs": [],
   "source": [
    "!pip install gradio -q\n",
    "!pip install revChatGPT -q"
   ]
  },
  {
   "cell_type": "markdown",
   "id": "223e9c8d",
   "metadata": {},
   "source": [
    "### 2. Import required modules"
   ]
  },
  {
   "cell_type": "code",
   "execution_count": 4,
   "id": "03c16d8b-3ecc-4812-ba71-795ca00414ec",
   "metadata": {},
   "outputs": [],
   "source": [
    "from revChatGPT.V1 import Chatbot\n",
    "import gradio as gr"
   ]
  },
  {
   "attachments": {},
   "cell_type": "markdown",
   "id": "906cd8c3-a32b-4dda-a66d-46e6145c6ccd",
   "metadata": {},
   "source": [
    "### 3. Setup ChatGPT token"
   ]
  },
  {
   "cell_type": "code",
   "execution_count": 5,
   "id": "ec2a7851-2891-4139-8424-bf4e31d6b0f8",
   "metadata": {},
   "outputs": [],
   "source": [
    "config = {\n",
    "    \"Authorization\": \"<leave this as whatever - it will get replaced>\",\n",
    "    \"access_token\": \"YOUR_TOKEN_HERE\",\n",
    "}"
   ]
  },
  {
   "attachments": {},
   "cell_type": "markdown",
   "id": "3f17ca71-5705-4a69-a837-c3e61661c137",
   "metadata": {},
   "source": [
    "### 4. Create ChatBot using ChatGPT's API"
   ]
  },
  {
   "cell_type": "code",
   "execution_count": 12,
   "id": "1cec0e66-3601-4b01-989b-a460a1b0f679",
   "metadata": {},
   "outputs": [],
   "source": [
    "chatbot = Chatbot(config, conversation_id=None)\n",
    "\n",
    "def update_history(prompt):\n",
    "    response = ''\n",
    "    for data in chatbot.ask(prompt):\n",
    "        response = data[\"message\"]\n",
    "    print(response)\n",
    "    return response "
   ]
  },
  {
   "cell_type": "markdown",
   "id": "eb1a8a51-13a4-4f49-823d-54fd3fd1549d",
   "metadata": {},
   "source": [
    "### 5. Create Gradio Interface"
   ]
  },
  {
   "cell_type": "code",
   "execution_count": null,
   "id": "f8031728-78b5-4fa2-bb27-b59e612c5bcf",
   "metadata": {},
   "outputs": [],
   "source": [
    "def gradio_interface(prompt, history=[]):\n",
    "    history = history or []\n",
    "    s = ' '.join(sum(history, ()))\n",
    "    print(s)\n",
    "    output = update_history(f'{s} {prompt}')\n",
    "    history.append(output)\n",
    "    return output\n",
    "\n",
    "gr.Interface(fn = gradio_interface,\n",
    "             inputs = [\"text\",'state'],\n",
    "             outputs = [\"chatbot\",'state']).launch(debug = False, share=True)"
   ]
  }
 ],
 "metadata": {
  "kernelspec": {
   "display_name": "Python 3",
   "language": "python",
   "name": "python3"
  },
  "language_info": {
   "codemirror_mode": {
    "name": "ipython",
    "version": 3
   },
   "file_extension": ".py",
   "mimetype": "text/x-python",
   "name": "python",
   "nbconvert_exporter": "python",
   "pygments_lexer": "ipython3",
   "version": "3.10.4"
  },
  "vscode": {
   "interpreter": {
    "hash": "3ad933181bd8a04b432d3370b9dc3b0662ad032c4dfaa4e4f1596c548f763858"
   }
  }
 },
 "nbformat": 4,
 "nbformat_minor": 5
}
